{
 "cells": [
  {
   "cell_type": "code",
   "execution_count": null,
   "id": "0c80aaef",
   "metadata": {},
   "outputs": [],
   "source": [
    "import streamlit as st\n",
    "from vaderSentiment.vaderSentiment import SentimentIntensityAnalyzer\n",
    "from deep_translator import GoogleTranslator\n",
    "\n",
    "analyzer = SentimentIntensityAnalyzer()\n",
    "\n",
    "st.title(\"🚗 Multilingual Car Review Sentiment Analyzer\")\n",
    "\n",
    "review_text = st.text_area(\"Write a car review in any language:\")\n",
    "\n",
    "\n",
    "if st.button(\"Analyze Sentiment\"):\n",
    "    if review_text.strip():\n",
    "        try:\n",
    "            # Translate to English\n",
    "            translated = GoogleTranslator(source='auto', target='en').translate(review_text)\n",
    "\n",
    "            # Sentiment score\n",
    "            score = analyzer.polarity_scores(translated)[\"compound\"]\n",
    "\n",
    "            if score > 0.05:\n",
    "                label = \"😊 Positive\"\n",
    "            elif score < -0.05:\n",
    "                label = \"😡 Negative\"\n",
    "            else:\n",
    "                label = \"😐 Neutral\"\n",
    "\n",
    "            # Output\n",
    "            st.write(\"**Translated Review (English):**\", translated)\n",
    "            st.write(\"**Sentiment:**\", label)\n",
    "            st.write(\"**Sentiment Score:**\", score)\n",
    "\n",
    "        except Exception as e:\n",
    "            st.error(f\"Error: {e}\")\n",
    "    else:\n",
    "        st.warning(\"⚠️ Please enter a review.\")\n"
   ]
  },
  {
   "cell_type": "code",
   "execution_count": null,
   "id": "4d6ab810",
   "metadata": {},
   "outputs": [],
   "source": []
  }
 ],
 "metadata": {
  "kernelspec": {
   "display_name": "Python 3 (ipykernel)",
   "language": "python",
   "name": "python3"
  },
  "language_info": {
   "codemirror_mode": {
    "name": "ipython",
    "version": 3
   },
   "file_extension": ".py",
   "mimetype": "text/x-python",
   "name": "python",
   "nbconvert_exporter": "python",
   "pygments_lexer": "ipython3",
   "version": "3.11.5"
  }
 },
 "nbformat": 4,
 "nbformat_minor": 5
}
